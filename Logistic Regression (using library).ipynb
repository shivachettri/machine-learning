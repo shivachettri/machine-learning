{
 "cells": [
  {
   "cell_type": "markdown",
   "metadata": {},
   "source": [
    "### Logistic Regression\n",
    "We will use sklearn library's Logistic Regression model."
   ]
  },
  {
   "cell_type": "code",
   "execution_count": 13,
   "metadata": {},
   "outputs": [],
   "source": [
    "import math\n",
    "import numpy as np\n",
    "import pandas as pd\n",
    "\n",
    "from sklearn import preprocessing\n",
    "from sklearn.linear_model import LogisticRegression\n",
    "from sklearn.cross_validation import train_test_split"
   ]
  },
  {
   "cell_type": "markdown",
   "metadata": {},
   "source": [
    "#### Prepare Dataset\n",
    "We will load dataset and put label. Next, we will extract 'x' fro and later scale each feature value in range (-1,1), because training on scaled value performs better. Then, we will extract all labels in 'y' as a numpy array."
   ]
  },
  {
   "cell_type": "code",
   "execution_count": 14,
   "metadata": {},
   "outputs": [
    {
     "data": {
      "text/html": [
       "<div>\n",
       "<style scoped>\n",
       "    .dataframe tbody tr th:only-of-type {\n",
       "        vertical-align: middle;\n",
       "    }\n",
       "\n",
       "    .dataframe tbody tr th {\n",
       "        vertical-align: top;\n",
       "    }\n",
       "\n",
       "    .dataframe thead th {\n",
       "        text-align: right;\n",
       "    }\n",
       "</style>\n",
       "<table border=\"1\" class=\"dataframe\">\n",
       "  <thead>\n",
       "    <tr style=\"text-align: right;\">\n",
       "      <th></th>\n",
       "      <th>10th Exam</th>\n",
       "      <th>12th Exam</th>\n",
       "      <th>isAdmission</th>\n",
       "    </tr>\n",
       "  </thead>\n",
       "  <tbody>\n",
       "    <tr>\n",
       "      <th>0</th>\n",
       "      <td>34.623660</td>\n",
       "      <td>78.024693</td>\n",
       "      <td>0;;;;</td>\n",
       "    </tr>\n",
       "    <tr>\n",
       "      <th>1</th>\n",
       "      <td>30.286711</td>\n",
       "      <td>43.894998</td>\n",
       "      <td>0;;;;</td>\n",
       "    </tr>\n",
       "    <tr>\n",
       "      <th>2</th>\n",
       "      <td>35.847409</td>\n",
       "      <td>72.902198</td>\n",
       "      <td>0;;;;</td>\n",
       "    </tr>\n",
       "    <tr>\n",
       "      <th>3</th>\n",
       "      <td>60.182599</td>\n",
       "      <td>86.308552</td>\n",
       "      <td>1;;;;</td>\n",
       "    </tr>\n",
       "    <tr>\n",
       "      <th>4</th>\n",
       "      <td>79.032736</td>\n",
       "      <td>75.344376</td>\n",
       "      <td>1;;;;</td>\n",
       "    </tr>\n",
       "  </tbody>\n",
       "</table>\n",
       "</div>"
      ],
      "text/plain": [
       "   10th Exam  12th Exam isAdmission\n",
       "0  34.623660  78.024693       0;;;;\n",
       "1  30.286711  43.894998       0;;;;\n",
       "2  35.847409  72.902198       0;;;;\n",
       "3  60.182599  86.308552       1;;;;\n",
       "4  79.032736  75.344376       1;;;;"
      ]
     },
     "execution_count": 14,
     "metadata": {},
     "output_type": "execute_result"
    }
   ],
   "source": [
    "dataset = pd.read_csv(\"logistic-regression-data.csv\", header=0)\n",
    "\n",
    "dataset.columns = [\"10th Exam\", \"12th Exam\", \"isAdmission\"]\n",
    "\n",
    "x = dataset[[\"10th Exam\", \"12th Exam\"]]\n",
    "x = preprocessing.MinMaxScaler(feature_range=(-1,1)).fit_transform(x)\n",
    "\n",
    "y = dataset[\"isAdmission\"].map(lambda x: float(x.rstrip(';')))\n",
    "y = np.array(y)\n",
    "\n",
    "#NOTE: the next line need to be in the last (don't know why)\n",
    "dataset.head()"
   ]
  },
  {
   "cell_type": "markdown",
   "metadata": {},
   "source": [
    "#### Training\n",
    "We will first split dataset into training dataset (70%) and test dataset (30%). Next, we will fit the training dataset to a Logistic Regression model from sklearn library an finally test the score with test dataset."
   ]
  },
  {
   "cell_type": "code",
   "execution_count": 15,
   "metadata": {},
   "outputs": [
    {
     "name": "stdout",
     "output_type": "stream",
     "text": [
      "Score:  0.9090909090909091\n"
     ]
    }
   ],
   "source": [
    "x_train_dataset, x_test_dataset, y_train_dataset, y_test_dataset = train_test_split(x, y, test_size=0.33)\n",
    "\n",
    "model = LogisticRegression()\n",
    "model.fit(x_train_dataset, y_train_dataset)\n",
    "\n",
    "print(\"Score: \", model.score(x_test_dataset, y_test_dataset))"
   ]
  },
  {
   "cell_type": "markdown",
   "metadata": {},
   "source": [
    "#### Observation\n",
    "The score is 90% accuracy."
   ]
  }
 ],
 "metadata": {
  "kernelspec": {
   "display_name": "Python 3",
   "language": "python",
   "name": "python3"
  },
  "language_info": {
   "codemirror_mode": {
    "name": "ipython",
    "version": 3
   },
   "file_extension": ".py",
   "mimetype": "text/x-python",
   "name": "python",
   "nbconvert_exporter": "python",
   "pygments_lexer": "ipython3",
   "version": "3.6.4"
  }
 },
 "nbformat": 4,
 "nbformat_minor": 2
}
