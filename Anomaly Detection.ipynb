{
 "cells": [
  {
   "cell_type": "markdown",
   "metadata": {},
   "source": [
    "### Anomaly Detection\n",
    "It is an algorithm that detects and highlights ouliers (unexpected data points). The idea is to draw a decision boundary around normal data points, such that the unexpect data points are outlying as undesired.\n",
    "\n",
    "It has lot of practical usage like unusual network traffic detection, unusual transaction detection, etc."
   ]
  },
  {
   "cell_type": "code",
   "execution_count": 83,
   "metadata": {},
   "outputs": [],
   "source": [
    "import numpy as np\n",
    "\n",
    "from sklearn import svm\n",
    "\n",
    "import matplotlib.pyplot as plotter\n",
    "import matplotlib.font_manager"
   ]
  },
  {
   "cell_type": "markdown",
   "metadata": {},
   "source": [
    "#### Prepare Data\n",
    "We will prepare random data for training and testing purpose along with outlier dataset."
   ]
  },
  {
   "cell_type": "code",
   "execution_count": 84,
   "metadata": {
    "scrolled": true
   },
   "outputs": [
    {
     "name": "stdout",
     "output_type": "stream",
     "text": [
      "TRAINING DATASET \n",
      "\t min: -1.782149, max: 1.724842\n",
      "TESTING DATASET \n",
      "\t min: -1.700652, max: 1.727855\n",
      "TRAINING DATASET \n",
      "\t min: -5.990785, max: 5.879809\n"
     ]
    }
   ],
   "source": [
    "x = 0.1 * np.random.randn(50, 2)\n",
    "x_train = np.r_[x + 1.5, x - 1.5]\n",
    "print(\"TRAINING DATASET \\n\\t min: %f, max: %f\" % (x_train.min(), x_train.max()))\n",
    "\n",
    "x = 0.09 * np.random.randn(20, 2)\n",
    "x_test = np.r_[x + 1.5, x - 1.5]\n",
    "print(\"TESTING DATASET \\n\\t min: %f, max: %f\" % (x_test.min(), x_test.max()))\n",
    "\n",
    "x_outliers = np.random.uniform(low=-6, high=6, size=(20, 2))\n",
    "print(\"TRAINING DATASET \\n\\t min: %f, max: %f\" % (x_outliers.min(), x_outliers.max()))"
   ]
  },
  {
   "cell_type": "markdown",
   "metadata": {},
   "source": [
    "#### Training\n",
    "We will train our model using SVM with 'rbf' kernel and make predictions on above dataset.\n",
    "\n",
    "NOTE: Predicition will be highlight inliers as '1' and outliers as '-1', we will take number of errors in each dataset to be plotted later."
   ]
  },
  {
   "cell_type": "code",
   "execution_count": 85,
   "metadata": {},
   "outputs": [
    {
     "name": "stdout",
     "output_type": "stream",
     "text": [
      "NO OF TRAINING ERROR: 9.000000, NO OF TESTING ERROR: 5.000000, NO OF OUTLIERS ERROR: 20.000000\n"
     ]
    }
   ],
   "source": [
    "model = svm.OneClassSVM(nu=0.1, kernel=\"rbf\", gamma=0.1)\n",
    "model.fit(x_train)\n",
    "\n",
    "y_train = model.predict(x_train)\n",
    "y_test = model.predict(x_test)\n",
    "y_outliers = model.predict(x_outliers)\n",
    "\n",
    "error_train = y_train[y_train == -1].size\n",
    "error_test = y_test[y_test == -1].size\n",
    "error_outliers = y_outliers[y_outliers == -1].size\n",
    "print(\"NO OF TRAINING ERROR: %f, NO OF TESTING ERROR: %f, NO OF OUTLIERS ERROR: %f\" % \n",
    "      ((error_train), (error_test), (error_outliers)))"
   ]
  },
  {
   "cell_type": "markdown",
   "metadata": {},
   "source": [
    "In the above output, we can see that the model trained with training dataset sets out all the anamolies as error, as in case of outliers data maximum are marked as error while in testing data few are marked as error."
   ]
  },
  {
   "cell_type": "markdown",
   "metadata": {},
   "source": [
    "#### Visualize\n",
    "We will plot a mesh plot to see decision boundary for detecting anomalies."
   ]
  },
  {
   "cell_type": "code",
   "execution_count": 86,
   "metadata": {},
   "outputs": [
    {
     "data": {
      "image/png": "[encoded data removed]",
      "text/plain": [
       "<matplotlib.figure.Figure at 0x194c1a6b630>"
      ]
     },
     "metadata": {},
     "output_type": "display_data"
    }
   ],
   "source": [
    "xx, yy = np.meshgrid(np.linspace(-10, 10, 500), np.linspace(-5, 5, 500))\n",
    "\n",
    "boundary = model.decision_function(np.c_[xx.ravel(), yy.ravel()]).reshape(xx.shape)\n",
    "decision_boundary = plotter.contour(xx, yy, boundary, levels=[0], linewidths=2, colors='red')\n",
    "plotter.contourf(xx, yy, boundary, levels=[0, boundary.max()], colors='orange')\n",
    "\n",
    "training_data = plotter.scatter(x_train[:, 0], x_train[:, 1], c='yellow')\n",
    "testing_data = plotter.scatter(x_test[:, 0], x_test[:, 1], c='green')\n",
    "outliers_data = plotter.scatter(x_outliers[:, 0], x_outliers[:, 1], c='red')\n",
    "\n",
    "plotter.legend([decision_boundary.collections[0], training_data, testing_data, outliers_data],\n",
    "               [\"Boundary\", \"Training\",\"Testing\", \"Outliers\"],\n",
    "               prop=matplotlib.font_manager.FontProperties(size=11))\n",
    "plotter.show()"
   ]
  },
  {
   "cell_type": "code",
   "execution_count": null,
   "metadata": {},
   "outputs": [],
   "source": []
  },
  {
   "cell_type": "code",
   "execution_count": null,
   "metadata": {},
   "outputs": [],
   "source": []
  }
 ],
 "metadata": {
  "kernelspec": {
   "display_name": "Python 3",
   "language": "python",
   "name": "python3"
  },
  "language_info": {
   "codemirror_mode": {
    "name": "ipython",
    "version": 3
   },
   "file_extension": ".py",
   "mimetype": "text/x-python",
   "name": "python",
   "nbconvert_exporter": "python",
   "pygments_lexer": "ipython3",
   "version": "3.6.4"
  }
 },
 "nbformat": 4,
 "nbformat_minor": 2
}
