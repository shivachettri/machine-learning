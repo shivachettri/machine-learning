{
 "cells": [
  {
   "cell_type": "markdown",
   "metadata": {},
   "source": [
    "### DBSCAN\n",
    "Density-Based Spatial Clustering of Application with Noise is a populate clustering algorithm used as in replacement to K-Means.\n",
    "\n",
    "It does not require us to input n_cluster as in case of K-Means. However, we need to tune 2 other parameters:\n",
    "'eps' - minimum distance between two data points to be considered in same neighborhood.\n",
    "'min_samples' - minimum number of data points in neighborhood to be considered as a cluster.\n",
    "\n",
    "PCA (Principal Component Analysis) is a method to transform data from higher dimention to lower dimention (Ex.: 4D to 2D) making sure their is minimum projection error with creating a decision boundary.\n",
    "'n_component' - number of component to keep or transform to.\n",
    "\n",
    "We will again use default iris dataset from sklearn library."
   ]
  },
  {
   "cell_type": "code",
   "execution_count": 23,
   "metadata": {},
   "outputs": [
    {
     "data": {
      "image/png": "[encoded data removed]",
      "text/plain": [
       "<matplotlib.figure.Figure at 0x242b765f278>"
      ]
     },
     "metadata": {},
     "output_type": "display_data"
    }
   ],
   "source": [
    "from sklearn.datasets import load_iris\n",
    "from sklearn.cluster import DBSCAN\n",
    "from sklearn.decomposition import PCA\n",
    "\n",
    "import matplotlib.pyplot as plotter\n",
    "\n",
    "\n",
    "iris_dataset = load_iris()\n",
    "\n",
    "model = DBSCAN()\n",
    "model.fit(iris_dataset.data)\n",
    "\n",
    "#uncomment line below to see iris dataset\n",
    "#print(iris_dataset.data)\n",
    "\n",
    "#uncomment line below to see clustered data class\n",
    "#print(\"Clustered Dataset: \", model.labels_)\n",
    "\n",
    "\n",
    "#transform data into 2D with PCA\n",
    "pca_dataset = PCA(n_components=2).fit(iris_dataset.data)\n",
    "transformed_dataset = pca_dataset.transform(iris_dataset.data)\n",
    "\n",
    "#uncomment line below to see transformed dataset\n",
    "#print(\"Transformed Dataset:\", transformed_dataset)\n",
    "\n",
    "\n",
    "#loop through number of transformed dataset and scatter transformed_dataset into graph\n",
    "for i in range(0, transformed_dataset.shape[0]):\n",
    "    if model.labels_[i] == 0:\n",
    "        cluster_1 = plotter.scatter(transformed_dataset[i, 0], transformed_dataset[i, 1], c='b', marker='+')\n",
    "    elif model.labels_[i] == 1:\n",
    "        cluster_2 = plotter.scatter(transformed_dataset[i, 0], transformed_dataset[i, 1], c='g', marker='o')\n",
    "    elif model.labels_[i] == -1:\n",
    "        noise = plotter.scatter(transformed_dataset[i, 0], transformed_dataset[i, 1], c='r', marker='*')\n",
    "\n",
    "plotter.legend([cluster_1, cluster_2, noise], ['Cluster 1', 'Cluster 2', 'Noise'])\n",
    "plotter.title('Clustered Dataset')\n",
    "plotter.show()"
   ]
  },
  {
   "cell_type": "markdown",
   "metadata": {},
   "source": [
    "#### Observation\n",
    "We can observe how 4D dataset get transformed into 2D dataset using PCA and later plotted into 2D graph along with noise to be visualized."
   ]
  }
 ],
 "metadata": {
  "kernelspec": {
   "display_name": "Python 3",
   "language": "python",
   "name": "python3"
  },
  "language_info": {
   "codemirror_mode": {
    "name": "ipython",
    "version": 3
   },
   "file_extension": ".py",
   "mimetype": "text/x-python",
   "name": "python",
   "nbconvert_exporter": "python",
   "pygments_lexer": "ipython3",
   "version": "3.6.4"
  }
 },
 "nbformat": 4,
 "nbformat_minor": 2
}
