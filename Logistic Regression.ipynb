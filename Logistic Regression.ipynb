{
 "cells": [
  {
   "cell_type": "markdown",
   "metadata": {},
   "source": [
    "### Logistic Regression\n",
    "Logistic Regression is a supervised learing model / classifier used to predict discrete outcome. \n",
    "\n",
    "NOTE: We use logistic regression only if the data is linearly seperable."
   ]
  },
  {
   "cell_type": "code",
   "execution_count": 351,
   "metadata": {},
   "outputs": [],
   "source": [
    "#library for scientific computation\n",
    "import numpy as np\n",
    "\n",
    "#library for data analysis\n",
    "import pandas as pd\n",
    "\n",
    "#library for numeric computation, but used for plotting graphs here\n",
    "from pylab import scatter, show, legend, xlabel, ylabel \n",
    "\n",
    "#library for mathematical calculations\n",
    "import math\n",
    "\n",
    "#library for data mining and analysis\n",
    "from sklearn import preprocessing"
   ]
  },
  {
   "cell_type": "markdown",
   "metadata": {},
   "source": [
    "#### Sigmoid Function\n",
    "Sigmoid function takes in mathematical function that takes in input and outputs either 0 or 1."
   ]
  },
  {
   "cell_type": "code",
   "execution_count": 352,
   "metadata": {},
   "outputs": [],
   "source": [
    "def sigmoid_function(hypothesis):\n",
    "    return float(1.0 / float(1.0 + math.exp(-1.0 * hypothesis)))"
   ]
  },
  {
   "cell_type": "markdown",
   "metadata": {},
   "source": [
    "#### Hypothesis\n",
    "Hypothesis define a line (decision bounday) that seperates or classifies the two dataset.\n",
    "\n",
    "Mathematically, hypothesis equation:\n",
    "\n",
    "    h(x) = theta_0 + theta_1 * feature_1 + theta_2 * feature_2...  [ϴ = Theta]\n",
    "\n",
    "In equation, features's are know while we have to all find theta values such that it best classifies or seperates dataset.\n",
    "\n",
    "Since we have 2 features, so the equation ignoring theta_0 will look like:\n",
    "\n",
    "    h(x) = theta_1 * feature_1 + theta_2 * feature_2"
   ]
  },
  {
   "cell_type": "code",
   "execution_count": 353,
   "metadata": {},
   "outputs": [],
   "source": [
    "def hypothesis(theta, x):\n",
    "    return sigmoid_function((x[0] * theta[0]) + (x[1] * theta[1]))"
   ]
  },
  {
   "cell_type": "markdown",
   "metadata": {},
   "source": [
    "#### Error / Cost Function\n",
    "The cost/error function is used to calculate error.\n",
    "\n",
    "NOTE: The cost function for logistic function is different for 2 different labels."
   ]
  },
  {
   "cell_type": "code",
   "execution_count": 354,
   "metadata": {},
   "outputs": [],
   "source": [
    "def cost_function(x, y, theta):\n",
    "    totalError = 0\n",
    "    \n",
    "    for i in range(len(y)):        \n",
    "        if y[i] == 1:\n",
    "            totalError += y[i] * math.log(hypothesis(theta, x[i]))\n",
    "        elif y[i] == 0:\n",
    "            totalError += (1 - y[i]) * math.log(1 - hypothesis(theta, x[i]))\n",
    "    \n",
    "    return ((-1/len(y)) * totalError)"
   ]
  },
  {
   "cell_type": "markdown",
   "metadata": {},
   "source": [
    "#### Gradient Descent\n",
    "Gradient Descent is a process of finding the best fitting theta value. Mathematically, gradient descent is a partial derivative of a error/cost function.\n",
    "\n",
    "In function, the current value for theta is runned across all dataset and the error is calculated for each value of theta with respect to each set of data. The sum of error across all data tell us by what factor do we need to adjust theta such that theta value will generalize for complete dataset. Then, the new theta value is adjusted and returned."
   ]
  },
  {
   "cell_type": "code",
   "execution_count": 355,
   "metadata": {},
   "outputs": [],
   "source": [
    "def gradient_descent(x, y, theta, alpha):\n",
    "    new_theta = []\n",
    "    \n",
    "    for j in range(len(theta)):\n",
    "        totalError = 0        \n",
    "        for i in range(len(y)):\n",
    "            totalError += ((hypothesis(theta, x[i]) - y[i]) * x[i][j])\n",
    "    \n",
    "        gradientTheta = ((float(alpha)/float(len(y))) * totalError)\n",
    "        new_theta_value = theta[j] - gradientTheta\n",
    "        new_theta.append(new_theta_value)\n",
    "    \n",
    "    return new_theta"
   ]
  },
  {
   "cell_type": "markdown",
   "metadata": {},
   "source": [
    "### Training Model\n",
    "We have a labeled dataset for student applying for admission with class 10 and class 12 grade. The column 'isAdmission' in the dataset is a label specifying if the student can get admission or not. Our task is to design a logistic regression modal that can classify student as admitable or not admitable based on class 10th and class 12th grade."
   ]
  },
  {
   "cell_type": "markdown",
   "metadata": {},
   "source": [
    "#### Prepare Dataset\n",
    "We will load dataset and put label. Next, we will extract 'x' fro and later scale each feature value in range (-1,1), because training on scaled value performs better. Then, we will extract all labels in 'y' as a numpy array."
   ]
  },
  {
   "cell_type": "code",
   "execution_count": 356,
   "metadata": {},
   "outputs": [
    {
     "data": {
      "text/html": [
       "<div>\n",
       "<style scoped>\n",
       "    .dataframe tbody tr th:only-of-type {\n",
       "        vertical-align: middle;\n",
       "    }\n",
       "\n",
       "    .dataframe tbody tr th {\n",
       "        vertical-align: top;\n",
       "    }\n",
       "\n",
       "    .dataframe thead th {\n",
       "        text-align: right;\n",
       "    }\n",
       "</style>\n",
       "<table border=\"1\" class=\"dataframe\">\n",
       "  <thead>\n",
       "    <tr style=\"text-align: right;\">\n",
       "      <th></th>\n",
       "      <th>10th Exam</th>\n",
       "      <th>12th Exam</th>\n",
       "      <th>isAdmission</th>\n",
       "    </tr>\n",
       "  </thead>\n",
       "  <tbody>\n",
       "    <tr>\n",
       "      <th>0</th>\n",
       "      <td>34.623660</td>\n",
       "      <td>78.024693</td>\n",
       "      <td>0;;;;</td>\n",
       "    </tr>\n",
       "    <tr>\n",
       "      <th>1</th>\n",
       "      <td>30.286711</td>\n",
       "      <td>43.894998</td>\n",
       "      <td>0;;;;</td>\n",
       "    </tr>\n",
       "    <tr>\n",
       "      <th>2</th>\n",
       "      <td>35.847409</td>\n",
       "      <td>72.902198</td>\n",
       "      <td>0;;;;</td>\n",
       "    </tr>\n",
       "    <tr>\n",
       "      <th>3</th>\n",
       "      <td>60.182599</td>\n",
       "      <td>86.308552</td>\n",
       "      <td>1;;;;</td>\n",
       "    </tr>\n",
       "    <tr>\n",
       "      <th>4</th>\n",
       "      <td>79.032736</td>\n",
       "      <td>75.344376</td>\n",
       "      <td>1;;;;</td>\n",
       "    </tr>\n",
       "  </tbody>\n",
       "</table>\n",
       "</div>"
      ],
      "text/plain": [
       "   10th Exam  12th Exam isAdmission\n",
       "0  34.623660  78.024693       0;;;;\n",
       "1  30.286711  43.894998       0;;;;\n",
       "2  35.847409  72.902198       0;;;;\n",
       "3  60.182599  86.308552       1;;;;\n",
       "4  79.032736  75.344376       1;;;;"
      ]
     },
     "execution_count": 356,
     "metadata": {},
     "output_type": "execute_result"
    }
   ],
   "source": [
    "dataset = pd.read_csv(\"logistic-regression-data.csv\", header=0)\n",
    "\n",
    "dataset.columns = [\"10th Exam\", \"12th Exam\", \"isAdmission\"]\n",
    "\n",
    "x = dataset[[\"10th Exam\", \"12th Exam\"]]\n",
    "x = preprocessing.MinMaxScaler(feature_range=(-1,1)).fit_transform(x)\n",
    "\n",
    "y = dataset[\"isAdmission\"].map(lambda x: float(x.rstrip(';')))\n",
    "y = np.array(y)\n",
    "\n",
    "#NOTE: the next line need to be in the last (don't know why)\n",
    "dataset.head()"
   ]
  },
  {
   "cell_type": "markdown",
   "metadata": {},
   "source": [
    "### Visualize\n",
    "We will use PyLab library to plot data.\n",
    "\n",
    "We will seggrigate all y = 1 (Admission) and y = 0 (No Admission) values seperately and label then."
   ]
  },
  {
   "cell_type": "code",
   "execution_count": 357,
   "metadata": {},
   "outputs": [
    {
     "data": {
      "image/png": "[encoded data removed]",
      "text/plain": [
       "<matplotlib.figure.Figure at 0x1872ee40da0>"
      ]
     },
     "metadata": {},
     "output_type": "display_data"
    }
   ],
   "source": [
    "scatter(x[where(y == 1), 0], x[where (y == 1), 1], marker='o', c='g')\n",
    "scatter(x[where(y == 0), 0], x[where (y == 0), 1], marker='x', c='r')\n",
    "xlabel('10th Exam')\n",
    "ylabel('12th Exam')\n",
    "legend(['Admission', 'No Admission'])\n",
    "show()"
   ]
  },
  {
   "cell_type": "markdown",
   "metadata": {},
   "source": [
    "#### Hyper-Parameters\n",
    "- We need to set initial value for theta_0 and theta_1 to train our model.\n",
    "- 'alpha' is a Regularization parameter that penalizes the theta to make some parameter small to address high variance. That is, alpha will make sure that the decision boundary (line) is not over fitting.\n",
    "- Number of Iteration we want to run to train our model."
   ]
  },
  {
   "cell_type": "code",
   "execution_count": 358,
   "metadata": {},
   "outputs": [],
   "source": [
    "initialTheta = [0,0]\n",
    "alpha = 0.1\n",
    "noIterations = 1000"
   ]
  },
  {
   "cell_type": "markdown",
   "metadata": {},
   "source": [
    "#### Training\n",
    "To train, we will run through definite number of iteration and called gredent descent function to adjust theta value such that the hypothesis (equation of a decision boundary) is best fitting."
   ]
  },
  {
   "cell_type": "code",
   "execution_count": 359,
   "metadata": {},
   "outputs": [
    {
     "name": "stdout",
     "output_type": "stream",
     "text": [
      "INITIAL THETA:  [0, 0]\n",
      "INITIAL COST: 0.693147\n",
      "FINAL THETA:  [3.721163566206064, 3.429174757317077]\n",
      "FINAL COST: 0.269710\n"
     ]
    }
   ],
   "source": [
    "print ('INITIAL THETA: ' , initialTheta)\n",
    "print('INITIAL COST: %f' % (cost_function(x, y, initialTheta)))\n",
    "\n",
    "new_theta = initialTheta\n",
    "for i in range(noIterations):\n",
    "    new_theta = gradient_descent(x, y, new_theta, alpha)\n",
    "    \n",
    "    #Uncomment following line for printing 'theta' and 'cost' every 100th loop.\n",
    "    #if i % 100:\n",
    "        #print ('Theta: ' , new_theta)\n",
    "        #print('Cost: %f' % (cost_function(x, y, new_theta)))\n",
    "        \n",
    "print ('FINAL THETA: ' , new_theta)\n",
    "print('FINAL COST: %f' % (cost_function(x, y, new_theta)))"
   ]
  },
  {
   "cell_type": "markdown",
   "metadata": {},
   "source": [
    "#### Observations\n",
    "We have the values for theta_0 and theta_1 for the given dataset. Which represents a decision boundary that classifies two diffrent labeled data. Putting this theta_0 and theta_1 values in hypothesis equation, for any value of feature_1 and feature_2,  we can predict / classify if the student can be given admission or not."
   ]
  }
 ],
 "metadata": {
  "kernelspec": {
   "display_name": "Python 3",
   "language": "python",
   "name": "python3"
  },
  "language_info": {
   "codemirror_mode": {
    "name": "ipython",
    "version": 3
   },
   "file_extension": ".py",
   "mimetype": "text/x-python",
   "name": "python",
   "nbconvert_exporter": "python",
   "pygments_lexer": "ipython3",
   "version": "3.6.4"
  }
 },
 "nbformat": 4,
 "nbformat_minor": 2
}
